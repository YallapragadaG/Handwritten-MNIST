{
 "cells": [
  {
   "cell_type": "markdown",
   "metadata": {},
   "source": [
    "# Classification\n",
    "\n",
    "In this lab, we will be building and evaluating different classifiers for recognising handwritten digits of MNIST dataset. We will be doing the following:\n",
    "\n",
    "1. Binary Classification of MNIST Dataset\n",
    "\n",
    "In the first set of tasks, you will evaluate a number of popular classifiers for the task of recognizing handwritten digits from MNIST dataset. Specifically, we will focus on distinguishing between 7 and 9 which are known to be a hard pair. \n",
    "\n",
    "2. Exploration of Different Evaluation Metrics. \n",
    "\n",
    "In the second set of tasks, you will learn how (and when) to use evaluation metrics for classifiers.\n",
    "\n",
    "3. Parameter Tuning through Grid Search/Cross Validation and Parallelization.\n",
    "\n",
    "You will learn how to tune your classifier and find optimal parameters using grid search. This is a very computationally intensive task - so you will also explore how to leverage parallelization capabilities of IPython kernel to get results sooner."
   ]
  },
  {
   "cell_type": "markdown",
   "metadata": {},
   "source": [
    "# Assignment in Data Mining - University of Warwick"
   ]
  },
  {
   "cell_type": "code",
   "execution_count": 2,
   "metadata": {},
   "outputs": [],
   "source": [
    "%matplotlib inline \n",
    "\n",
    "#Array processing\n",
    "import numpy as np\n",
    "\n",
    "#Data analysis, wrangling and common exploratory operations\n",
    "import pandas as pd\n",
    "from pandas import Series, DataFrame\n",
    "\n",
    "#For visualization. Matplotlib for basic viz and seaborn for more stylish figures + statistical figures not in MPL.\n",
    "import matplotlib.pyplot as plt\n",
    "import seaborn as sns\n",
    "from IPython.core.display import Image\n",
    "\n",
    "from sklearn.datasets import fetch_mldata                                                                       \n",
    "from sklearn.utils import shuffle                                                                                   \n",
    "from sklearn import metrics                                                                                                  \n",
    "from sklearn import tree                                                                                                     \n",
    "from sklearn.tree import DecisionTreeClassifier                                                       \n",
    "from sklearn.naive_bayes import MultinomialNB  \n",
    "from sklearn.linear_model import LogisticRegression                                            \n",
    "from sklearn.ensemble import RandomForestClassifier                                                                                                          \n",
    "from sklearn.model_selection import KFold, train_test_split, cross_val_score, GridSearchCV                                                \n",
    "from sklearn.preprocessing import StandardScaler\n",
    "\n",
    "import pydot, io\n",
    "import time\n",
    "\n",
    "#######################End imports###################################\n"
   ]
  },
  {
   "cell_type": "markdown",
   "metadata": {},
   "source": [
    "## Part 1: Binary Classification of MNIST Dataset\n",
    "\n",
    "In the first set of tasks, you will evaluate a number of popular classifiers for the task of recognizing handwritten digits from MNIST dataset. Specifically, we will focus on distinguishing between 7 and 9 which are known to be a hard pair."
   ]
  },
  {
   "cell_type": "code",
   "execution_count": 4,
   "metadata": {},
   "outputs": [
    {
     "name": "stderr",
     "output_type": "stream",
     "text": [
      "/Users/Geethika/opt/anaconda3/lib/python3.7/site-packages/sklearn/utils/deprecation.py:85: DeprecationWarning: Function fetch_mldata is deprecated; fetch_mldata was deprecated in version 0.20 and will be removed in version 0.22. Please use fetch_openml.\n",
      "  warnings.warn(msg, category=DeprecationWarning)\n",
      "/Users/Geethika/opt/anaconda3/lib/python3.7/site-packages/sklearn/utils/deprecation.py:85: DeprecationWarning: Function mldata_filename is deprecated; mldata_filename was deprecated in version 0.20 and will be removed in version 0.22. Please use fetch_openml.\n",
      "  warnings.warn(msg, category=DeprecationWarning)\n"
     ]
    },
    {
     "name": "stdout",
     "output_type": "stream",
     "text": [
      "(70000, 784)\n",
      "Shape of data and labels are : (14251, 784) (14251,)\n",
      "[0.         0.         0.         0.         0.         0.\n",
      " 0.         0.         0.         0.         0.         0.\n",
      " 0.         0.         0.         0.         0.         0.\n",
      " 0.         0.         0.         0.         0.         0.\n",
      " 0.         0.         0.         0.         0.         0.\n",
      " 0.         0.         0.         0.         0.         0.\n",
      " 0.         0.         0.         0.         0.         0.\n",
      " 0.         0.         0.         0.         0.         0.\n",
      " 0.         0.         0.         0.         0.         0.\n",
      " 0.         0.         0.         0.         0.         0.\n",
      " 0.         0.         0.         0.         0.         0.\n",
      " 0.         0.         0.         0.         0.         0.\n",
      " 0.         0.         0.         0.         0.         0.\n",
      " 0.         0.         0.         0.         0.         0.\n",
      " 0.         0.         0.         0.         0.         0.\n",
      " 0.         0.         0.         0.         0.         0.\n",
      " 0.         0.         0.         0.         0.         0.\n",
      " 0.         0.         0.         0.         0.         0.\n",
      " 0.         0.         0.         0.         0.         0.\n",
      " 0.         0.         0.         0.         0.         0.\n",
      " 0.         0.         0.         0.         0.         0.\n",
      " 0.         0.         0.         0.         0.         0.\n",
      " 0.         0.         0.         0.         0.         0.\n",
      " 0.         0.         0.         0.         0.         0.\n",
      " 0.         0.         0.         0.         0.         0.\n",
      " 0.         0.         0.         0.         0.         0.\n",
      " 0.         0.         0.         0.         0.         0.\n",
      " 0.         0.         0.         0.         0.         0.\n",
      " 0.         0.         0.         0.         0.         0.\n",
      " 0.         0.         0.         0.         0.         0.\n",
      " 0.         0.04313725 0.34117647 0.54117647 0.54117647 0.54117647\n",
      " 0.74901961 0.50196078 0.0745098  0.         0.         0.\n",
      " 0.         0.         0.         0.         0.         0.\n",
      " 0.         0.         0.         0.         0.         0.\n",
      " 0.         0.         0.         0.05098039 0.34901961 0.79607843\n",
      " 0.89411765 0.80784314 0.68235294 0.36078431 0.36078431 0.62352941\n",
      " 0.9254902  0.17254902 0.         0.         0.         0.\n",
      " 0.         0.         0.         0.         0.         0.\n",
      " 0.         0.         0.         0.         0.         0.\n",
      " 0.17647059 0.6745098  0.98823529 0.74117647 0.1254902  0.\n",
      " 0.         0.         0.         0.09411765 0.98823529 0.67058824\n",
      " 0.05098039 0.         0.         0.         0.         0.\n",
      " 0.         0.         0.         0.         0.         0.\n",
      " 0.         0.         0.         0.24313725 0.9254902  0.89019608\n",
      " 0.25882353 0.01568627 0.         0.         0.         0.\n",
      " 0.         0.09411765 0.98823529 0.98823529 0.17647059 0.\n",
      " 0.         0.         0.         0.         0.         0.\n",
      " 0.         0.         0.         0.         0.         0.\n",
      " 0.41568627 0.95294118 0.90588235 0.18823529 0.         0.\n",
      " 0.         0.         0.         0.         0.         0.29803922\n",
      " 0.98823529 0.98823529 0.17647059 0.         0.         0.\n",
      " 0.         0.         0.         0.         0.         0.\n",
      " 0.         0.         0.         0.40784314 0.99215686 0.86666667\n",
      " 0.16470588 0.         0.         0.         0.         0.\n",
      " 0.         0.24313725 0.74901961 1.         0.99215686 0.80392157\n",
      " 0.08235294 0.         0.         0.         0.         0.\n",
      " 0.         0.         0.         0.         0.         0.\n",
      " 0.25882353 0.9254902  0.98823529 0.         0.         0.\n",
      " 0.         0.         0.         0.03529412 0.18431373 0.84313725\n",
      " 0.98823529 0.97647059 0.80784314 0.21960784 0.         0.\n",
      " 0.         0.         0.         0.         0.         0.\n",
      " 0.         0.         0.         0.05098039 0.79607843 0.98823529\n",
      " 0.53333333 0.         0.         0.         0.         0.\n",
      " 0.1254902  0.30588235 0.98823529 0.98823529 0.98823529 0.45098039\n",
      " 0.         0.         0.         0.         0.         0.\n",
      " 0.         0.         0.         0.         0.         0.\n",
      " 0.         0.18431373 0.98823529 0.69019608 0.01568627 0.\n",
      " 0.         0.         0.         0.33333333 0.89803922 0.85882353\n",
      " 0.51764706 0.98823529 0.82352941 0.         0.         0.\n",
      " 0.         0.         0.         0.         0.         0.\n",
      " 0.         0.         0.         0.         0.         0.10196078\n",
      " 0.86666667 0.62745098 0.         0.         0.29019608 0.57254902\n",
      " 0.90196078 0.98039216 0.29411765 0.07058824 0.68235294 0.98823529\n",
      " 0.33333333 0.         0.         0.         0.         0.\n",
      " 0.         0.         0.         0.         0.         0.\n",
      " 0.         0.         0.         0.         0.65882353 0.97647059\n",
      " 0.99215686 1.         0.97647059 0.78039216 0.45490196 0.04313725\n",
      " 0.         0.22352941 0.99215686 0.75294118 0.04313725 0.\n",
      " 0.         0.         0.         0.         0.         0.\n",
      " 0.         0.         0.         0.         0.         0.\n",
      " 0.         0.         0.         0.4627451  0.80784314 0.36078431\n",
      " 0.29411765 0.         0.         0.         0.01960784 0.69803922\n",
      " 0.94117647 0.14509804 0.         0.         0.         0.\n",
      " 0.         0.         0.         0.         0.         0.\n",
      " 0.         0.         0.         0.         0.         0.\n",
      " 0.         0.         0.         0.         0.         0.\n",
      " 0.         0.         0.42352941 0.98823529 0.59215686 0.\n",
      " 0.         0.         0.         0.         0.         0.\n",
      " 0.         0.         0.         0.         0.         0.\n",
      " 0.         0.         0.         0.         0.         0.\n",
      " 0.         0.         0.         0.         0.         0.\n",
      " 0.91372549 0.92156863 0.17254902 0.         0.         0.\n",
      " 0.         0.         0.         0.         0.         0.\n",
      " 0.         0.         0.         0.         0.         0.\n",
      " 0.         0.         0.         0.         0.         0.\n",
      " 0.         0.         0.         0.61960784 0.99215686 0.6\n",
      " 0.         0.         0.         0.         0.         0.\n",
      " 0.         0.         0.         0.         0.         0.\n",
      " 0.         0.         0.         0.         0.         0.\n",
      " 0.         0.         0.         0.         0.         0.\n",
      " 0.03529412 0.91372549 0.94901961 0.16470588 0.         0.\n",
      " 0.         0.         0.         0.         0.         0.\n",
      " 0.         0.         0.         0.         0.         0.\n",
      " 0.         0.         0.         0.         0.         0.\n",
      " 0.         0.         0.         0.         0.36470588 0.98823529\n",
      " 0.52941176 0.         0.         0.         0.         0.\n",
      " 0.         0.         0.         0.         0.         0.\n",
      " 0.         0.         0.         0.         0.         0.\n",
      " 0.         0.         0.         0.         0.         0.\n",
      " 0.         0.         0.48627451 0.98823529 0.1254902  0.\n",
      " 0.         0.         0.         0.         0.         0.\n",
      " 0.         0.         0.         0.         0.         0.\n",
      " 0.         0.         0.         0.         0.         0.\n",
      " 0.         0.         0.         0.         0.         0.10196078\n",
      " 0.87843137 0.98823529 0.29019608 0.         0.         0.\n",
      " 0.         0.         0.         0.         0.         0.\n",
      " 0.         0.         0.         0.         0.         0.\n",
      " 0.         0.         0.         0.         0.         0.\n",
      " 0.         0.         0.         0.14901961 0.70196078 0.37254902\n",
      " 0.         0.         0.         0.         0.         0.\n",
      " 0.         0.         0.         0.         0.         0.\n",
      " 0.         0.         0.         0.         0.         0.\n",
      " 0.         0.         0.         0.         0.         0.\n",
      " 0.         0.         0.         0.         0.         0.\n",
      " 0.         0.         0.         0.         0.         0.\n",
      " 0.         0.         0.         0.         0.         0.\n",
      " 0.         0.         0.         0.         0.         0.\n",
      " 0.         0.         0.         0.         0.         0.\n",
      " 0.         0.         0.         0.         0.         0.\n",
      " 0.         0.         0.         0.         0.         0.\n",
      " 0.         0.         0.         0.        ]\n"
     ]
    }
   ],
   "source": [
    "try:\n",
    "    mnist = fetch_mldata(\"MNIST original\")                                                                                   \n",
    " \n",
    "except Exception as ex: \n",
    "    from tensorflow.g3doc.tutorials.mnist import input_data\n",
    "    #import tensorflow.examples.tutorials.mnist.input_data as import input_data\n",
    "    m=input_data.read_data_sets(\"MNIST\")\n",
    "    data = np.concatenate((m.train.images, m.test.images))\n",
    "    target = np.concatenate((m.train.labels, m.test.labels))\n",
    "    class dataFrame:\n",
    "        def __init__(self, data, target):\n",
    "            self.data = data\n",
    "            self.target = target\n",
    "    mnist = dataFrame(data, target)\n",
    "\n",
    "#The data is organized as follows:\n",
    "#  Each row corresponds to an image\n",
    "#  Each image has 28*28 pixels which is then linearized to a vector of size 784 (ie. 28*28)\n",
    "# mnist.data gives the image information while mnist.target gives the number in the image\n",
    "#print(\"#Images = %d and #Pixel per image = %s\" % (mnist.data.shape[0], mnist.data.shape[1]))\n",
    "print(mnist.data.shape)                                                                           \n",
    "                                                                                                                             \n",
    "#First 60K images are for training and last 10K are for testing\n",
    "all_train_data = mnist.data[:60000]                                                                                          \n",
    "all_test_data = mnist.data[60000:]                                                                                           \n",
    "all_train_labels = mnist.target[:60000]                                                                                      \n",
    "all_test_labels = mnist.target[60000:]                                                                                       \n",
    "                                                              \n",
    "#TASK IS TO DISTINGUISH 7 AND 9 in Handwritten MNIST                                                                                                                       \n",
    "#  numbers: 7 and 9 which are known to be hard to distinguish\n",
    "#Get all the seven images\n",
    "sevens_data = mnist.data[mnist.target==7]      \n",
    "#Get all the none images\n",
    "nines_data = mnist.data[mnist.target==9]       \n",
    "#Merge them to create a new dataset\n",
    "binary_class_data = np.vstack([sevens_data, nines_data])    \n",
    "binary_class_labels = np.hstack([np.repeat(7, sevens_data.shape[0]), np.repeat(9, nines_data.shape[0])])    \n",
    " \n",
    "#In order to make the experiments repeatable, we will seed the random number generator to a known value\n",
    "# That way the results of the experiments will always be same\n",
    "np.random.seed(1234)                        \n",
    "#randomly shuffle the data\n",
    "binary_class_data, binary_class_labels = shuffle(binary_class_data, binary_class_labels)  \n",
    "print(\"Shape of data and labels are :\" , binary_class_data.shape, binary_class_labels.shape)  \n",
    "\n",
    "#There are approximately 14K images of 7 and 9. \n",
    "#Let us take the first 5000 as training and remaining as test data                                          \n",
    "orig_binary_class_training_data = binary_class_data[:5000]                                                  \n",
    "binary_class_training_labels = binary_class_labels[:5000]                                                   \n",
    "orig_binary_class_testing_data = binary_class_data[5000:]                                                   \n",
    "binary_class_testing_labels = binary_class_labels[5000:] \n",
    "\n",
    "#The images are in grey scale where each number is between 0 to 255\n",
    "# Now let us normalize them so that the values are between 0 and 1. \n",
    "# This will be the only modification we will make to the image\n",
    "binary_class_training_data = orig_binary_class_training_data / 255.0                                        \n",
    "binary_class_testing_data = orig_binary_class_testing_data / 255.0                                          \n",
    "scaled_training_data = all_train_data / 255.0                                                                                \n",
    "scaled_testing_data = all_test_data / 255.0  \n",
    "\n",
    "print(binary_class_training_data[0,:])                                                                 \n",
    "     \n",
    "###########Make sure that you remember the variable names and their meaning\n",
    "#binary_class_training_data, binary_class_training_labels: Normalized images of 7 and 9 and the correct labels for training\n",
    "#binary_class_testing_data, binary_class_testing_labels : Normalized images of 7 and 9 and correct labels for testing\n",
    "#orig_binary_class_training_data, orig_binary_class_testing_data: Unnormalized images of 7 and 9\n",
    "#all_train_data, all_test_data: un normalized images of all digits \n",
    "#all_train_labels, all_test_labels: labels for all digits\n",
    "#scaled_training_data, scaled_testing_data: Normalized version of all_train_data, all_test_data for all digits\n"
   ]
  },
  {
   "cell_type": "markdown",
   "metadata": {},
   "source": [
    "## Binary Classification in scikit-learn\n",
    "\n",
    "All classifiers in scikit-learn follow a common pattern that makes life much easier. \n",
    "Follow these steps for all the tasks below.\n",
    "\n",
    "1. Instantiate the classifier with appropriate parameters\n",
    "2. Train/fit the classifier with training data and correct labels\n",
    "3. Test the classifier with unseen data\n",
    "4. Evaluate the performance of classifier"
   ]
  },
  {
   "cell_type": "markdown",
   "metadata": {},
   "source": [
    " Decision Trees "
   ]
  },
  {
   "cell_type": "code",
   "execution_count": 5,
   "metadata": {},
   "outputs": [],
   "source": [
    "###Do not make any change below\n",
    "def plot_dtree(model,fileName):                                                                                              \n",
    "    #You would have to install a Python package pydot                                                                        \n",
    "    #You would also have to install graphviz for your system - see http://www.graphviz.org/Download..php                     \n",
    "    #If you get any pydot error, see url\n",
    "    # http://stackoverflow.com/questions/15951748/pydot-and-graphviz-error-couldnt-import-dot-parser-loading-of-dot-files-will\n",
    "    dot_tree_data = io.StringIO()                                                                                      \n",
    "    tree.export_graphviz(model, out_file = dot_tree_data)                                                                   \n",
    "    (dtree_graph,) = pydot.graph_from_dot_data(dot_tree_data.getvalue())                                                        \n",
    "    dtree_graph.write_png(fileName)                   "
   ]
  },
  {
   "cell_type": "code",
   "execution_count": 6,
   "metadata": {},
   "outputs": [
    {
     "name": "stdout",
     "output_type": "stream",
     "text": [
      "0.9694087125716139\n",
      "None\n"
     ]
    }
   ],
   "source": [
    "\n",
    "from sklearn.tree import plot_tree\n",
    "ds = DecisionTreeClassifier(criterion='entropy',random_state=1234)\n",
    "ds.fit(binary_class_training_data,binary_class_training_labels)\n",
    "pred = ds.predict(binary_class_testing_data)\n",
    "print(metrics.accuracy_score(pred,binary_class_testing_labels ))\n",
    "print(plot_dtree(ds,\"dtree.png\"))"
   ]
  },
  {
   "cell_type": "markdown",
   "metadata": {},
   "source": [
    "Naive Bayes "
   ]
  },
  {
   "cell_type": "code",
   "execution_count": 7,
   "metadata": {},
   "outputs": [
    {
     "name": "stdout",
     "output_type": "stream",
     "text": [
      "0.9159009836774403\n"
     ]
    }
   ],
   "source": [
    "\n",
    "mnb = MultinomialNB()\n",
    "mnb.fit(binary_class_training_data,binary_class_training_labels)\n",
    "pred_mnb = mnb.predict(binary_class_testing_data)\n",
    "print(metrics.accuracy_score(pred_mnb,binary_class_testing_labels ))"
   ]
  },
  {
   "cell_type": "markdown",
   "metadata": {},
   "source": [
    "Logistic Regression\n"
   ]
  },
  {
   "cell_type": "code",
   "execution_count": 8,
   "metadata": {},
   "outputs": [
    {
     "name": "stderr",
     "output_type": "stream",
     "text": [
      "/Users/Geethika/opt/anaconda3/lib/python3.7/site-packages/sklearn/linear_model/logistic.py:432: FutureWarning: Default solver will be changed to 'lbfgs' in 0.22. Specify a solver to silence this warning.\n",
      "  FutureWarning)\n"
     ]
    },
    {
     "name": "stdout",
     "output_type": "stream",
     "text": [
      "0.9573019133066696\n"
     ]
    }
   ],
   "source": [
    "# Create a model with default parameters. Remember to set random state to 1234\n",
    "lg = LogisticRegression(random_state=1234)\n",
    "lg.fit(binary_class_training_data,binary_class_training_labels)\n",
    "pred_lg = lg.predict(binary_class_testing_data)\n",
    "print(metrics.accuracy_score(pred_lg,binary_class_testing_labels ))"
   ]
  },
  {
   "cell_type": "markdown",
   "metadata": {},
   "source": [
    " Random Forests "
   ]
  },
  {
   "cell_type": "code",
   "execution_count": 9,
   "metadata": {},
   "outputs": [
    {
     "name": "stderr",
     "output_type": "stream",
     "text": [
      "/Users/Geethika/opt/anaconda3/lib/python3.7/site-packages/sklearn/ensemble/forest.py:245: FutureWarning: The default value of n_estimators will change from 10 in version 0.20 to 100 in 0.22.\n",
      "  \"10 in version 0.20 to 100 in 0.22.\", FutureWarning)\n"
     ]
    },
    {
     "name": "stdout",
     "output_type": "stream",
     "text": [
      "0.9754621122040861\n"
     ]
    }
   ],
   "source": [
    "# Create a random forest classifier with Default parameters\n",
    "rfc = RandomForestClassifier()\n",
    "rfc.fit(binary_class_training_data,binary_class_training_labels)\n",
    "pred_rfc = rfc.predict(binary_class_testing_data)\n",
    "print(metrics.accuracy_score(pred_rfc,binary_class_testing_labels ))"
   ]
  },
  {
   "cell_type": "markdown",
   "metadata": {},
   "source": [
    "## Part 2: Exploration of Different Evaluation Metrics for Binary Classification\n"
   ]
  },
  {
   "cell_type": "markdown",
   "metadata": {},
   "source": [
    "### Exercise 5: Print the classification results \n",
    "\n",
    "For each of the models above:\n",
    "\n",
    "- Task 5a: Print the classification report and confusion matrix (5 marks)\n",
    "- Task 5b: Print the ROC curve (5 marks)\n",
    "- Task 5c: Print the AUC curve (5 marks)\n",
    "- Task 5d: Print the precision/recall curve (5 marks)"
   ]
  },
  {
   "cell_type": "code",
   "execution_count": 10,
   "metadata": {},
   "outputs": [
    {
     "name": "stdout",
     "output_type": "stream",
     "text": [
      "classification report of desicion tree\n",
      "              precision    recall  f1-score   support\n",
      "\n",
      "           7       0.97      0.97      0.97      4705\n",
      "           9       0.97      0.96      0.97      4546\n",
      "\n",
      "    accuracy                           0.97      9251\n",
      "   macro avg       0.97      0.97      0.97      9251\n",
      "weighted avg       0.97      0.97      0.97      9251\n",
      "\n",
      "confusion matrix of desicion tree\n",
      "[[4584  121]\n",
      " [ 162 4384]]\n",
      "classification report of Multinomail naive bayes\n",
      "              precision    recall  f1-score   support\n",
      "\n",
      "           7       0.88      0.95      0.91      4380\n",
      "           9       0.95      0.88      0.92      4871\n",
      "\n",
      "    accuracy                           0.92      9251\n",
      "   macro avg       0.92      0.92      0.92      9251\n",
      "weighted avg       0.92      0.92      0.92      9251\n",
      "\n",
      "confusion matrix of Multinomail naive bayes\n",
      "[[4174  206]\n",
      " [ 572 4299]]\n",
      "classification report of logistic regression\n",
      "              precision    recall  f1-score   support\n",
      "\n",
      "           7       0.96      0.96      0.96      4761\n",
      "           9       0.95      0.96      0.96      4490\n",
      "\n",
      "    accuracy                           0.96      9251\n",
      "   macro avg       0.96      0.96      0.96      9251\n",
      "weighted avg       0.96      0.96      0.96      9251\n",
      "\n",
      "confusion matrix of logistic regression\n",
      "[[4556  205]\n",
      " [ 190 4300]]\n",
      "classification report of random forest classifier\n",
      "              precision    recall  f1-score   support\n",
      "\n",
      "           7       0.98      0.97      0.98      4799\n",
      "           9       0.97      0.98      0.97      4452\n",
      "\n",
      "    accuracy                           0.98      9251\n",
      "   macro avg       0.98      0.98      0.98      9251\n",
      "weighted avg       0.98      0.98      0.98      9251\n",
      "\n",
      "confusion matrix of random forest classifier\n",
      "[[4659  140]\n",
      " [  87 4365]]\n"
     ]
    }
   ],
   "source": [
    "# task t5a (5 marks)\n",
    "# Print the classification report and confusion matrix for each of the models above\n",
    "# Write code here\n",
    "print(\"classification report of desicion tree\")\n",
    "print(metrics.classification_report(pred,binary_class_testing_labels))\n",
    "print(\"confusion matrix of desicion tree\")\n",
    "print(metrics.confusion_matrix(pred,binary_class_testing_labels ))\n",
    "print(\"classification report of Multinomail naive bayes\")\n",
    "print(metrics.classification_report(pred_mnb,binary_class_testing_labels))\n",
    "print(\"confusion matrix of Multinomail naive bayes\")\n",
    "print(metrics.confusion_matrix(pred_mnb,binary_class_testing_labels ))\n",
    "print(\"classification report of logistic regression\")\n",
    "print(metrics.classification_report(pred_lg,binary_class_testing_labels))\n",
    "print(\"confusion matrix of logistic regression\")\n",
    "print(metrics.confusion_matrix(pred_lg,binary_class_testing_labels ))\n",
    "print(\"classification report of random forest classifier\")\n",
    "print(metrics.classification_report(pred_rfc,binary_class_testing_labels))\n",
    "print(\"confusion matrix of random forest classifier\")\n",
    "print(metrics.confusion_matrix(pred_rfc,binary_class_testing_labels))\n"
   ]
  },
  {
   "cell_type": "code",
   "execution_count": 88,
   "metadata": {},
   "outputs": [
    {
     "data": {
      "image/png": "[encoded data removed]",
      "text/plain": [
       "<Figure size 432x288 with 1 Axes>"
      ]
     },
     "metadata": {
      "needs_background": "light"
     },
     "output_type": "display_data"
    },
    {
     "data": {
      "image/png": "[encoded data removed]",
      "text/plain": [
       "<Figure size 432x288 with 1 Axes>"
      ]
     },
     "metadata": {
      "needs_background": "light"
     },
     "output_type": "display_data"
    }
   ],
   "source": [
    "\n",
    "# Each of the model above has some probabilistic interpretation\n",
    "# So sklearn allows you to get the probability values as part of classification\n",
    "\n",
    "\n",
    "y_dsscore = ds.predict_proba(binary_class_testing_data)[:,1]\n",
    "binary_class_testing = np.where(binary_class_testing_labels == 9, True, False)\n",
    "false_positive_rate, true_positive_rate, thresholds = metrics.roc_curve(binary_class_testing,y_dsscore)\n",
    "false_positive_ratelg, true_positive_ratelg, thresholdslg = metrics.roc_curve(binary_class_testing,lg.predict_proba(binary_class_testing_data)[:,1])\n",
    "false_positive_ratemnb, true_positive_ratemnb, thresholdsmnb = metrics.roc_curve(binary_class_testing,mnb.predict_proba(binary_class_testing_data)[:,1])\n",
    "false_positive_raterfc, true_positive_raterfc, thresholdsrfc = metrics.roc_curve(binary_class_testing,rfc.predict_proba(binary_class_testing_data)[:,1])\n",
    "plt.figure()\n",
    "plt.plot(false_positive_rate,true_positive_rate,label= \"Desicion tree\")\n",
    "plt.plot(false_positive_ratelg,true_positive_ratelg,label= \"Logistic regression\")#(area = %0.2f)\"% roc_auclg\n",
    "plt.plot(false_positive_ratemnb,true_positive_ratemnb,label= \"Multinomial NaiveBayes\")\n",
    "plt.plot(false_positive_raterfc,true_positive_raterfc,label= \"Random Forest Classifier\")\n",
    "plt.plot([0,1],[0,1],'r--')\n",
    "plt.title(\"roc curve of 9 label\")\n",
    "plt.xlabel(\"Specificity(False positive rate)\")\n",
    "plt.ylabel(\"Sensitivity(True positive rate)\")\n",
    "plt.legend(loc = \"lower right\")\n",
    "plt.show()\n",
    "binary_class_testing_seven = np.where(binary_class_testing_labels == 7, True, False)\n",
    "false_positive_rate_seven, true_positive_rate_seven, thresholds_seven = metrics.roc_curve(binary_class_testing_seven,y_dsscore)\n",
    "false_positive_ratelg_seven, true_positive_ratelg_seven, thresholdslg_seven= metrics.roc_curve(binary_class_testing_seven,lg.predict_proba(binary_class_testing_data)[:,1])\n",
    "false_positive_ratemnb_seven, true_positive_ratemnb_seven, thresholdsmnb_seven = metrics.roc_curve(binary_class_testing_seven,mnb.predict_proba(binary_class_testing_data)[:,1])\n",
    "false_positive_raterfc_seven, true_positive_raterfc_seven, thresholdsrfc_seven = metrics.roc_curve(binary_class_testing_seven,rfc.predict_proba(binary_class_testing_data)[:,1])\n",
    "plt.figure()\n",
    "plt.plot(false_positive_rate_seven,true_positive_rate_seven,label= \"Desicion tree\")\n",
    "plt.plot(false_positive_ratelg_seven,true_positive_ratelg_seven,label= \"Logistic regression\")#(area = %0.2f)\"% roc_auclg\n",
    "plt.plot(false_positive_ratemnb_seven,true_positive_ratemnb_seven,label= \"Multinomial NaiveBayes\")\n",
    "plt.plot(false_positive_raterfc_seven,true_positive_raterfc_seven,label= \"Random Forest Classifier\")\n",
    "plt.plot([0,1],[0,1],'v--')\n",
    "plt.title(\"roc curve of 7 label\")\n",
    "plt.xlabel(\"Specificity(False positive rate)\")\n",
    "plt.ylabel(\"Sensitivity(True positive rate)\")\n",
    "plt.legend(loc = \"lower right\")\n",
    "plt.show()"
   ]
  },
  {
   "cell_type": "markdown",
   "metadata": {},
   "source": [
    "From the above we can see that all  model predicts the majority class of 9 and low class is 7 ,"
   ]
  },
  {
   "cell_type": "code",
   "execution_count": 91,
   "metadata": {},
   "outputs": [
    {
     "name": "stdout",
     "output_type": "stream",
     "text": [
      "roc-auc-score of desicion tree of label 9: 0.9695034734548352\n",
      "roc-auc-score of logistic regression label 9: 0.9572306464746526\n",
      "roc-auc-score of multinomial naive bayes label 9: 0.9168752423326987\n",
      "roc-auc-score of random forest classifier label 9: 0.9752960960640726\n"
     ]
    }
   ],
   "source": [
    "# Print the AUC value for each of the models above\n",
    "\n",
    "roc_auc = metrics.roc_auc_score(binary_class_testing,pred)\n",
    "roc_auclg = metrics.roc_auc_score(binary_class_testing,pred_lg)\n",
    "roc_aucmnb = metrics.roc_auc_score(binary_class_testing,pred_mnb)\n",
    "roc_aucrfc = metrics.roc_auc_score(binary_class_testing,pred_rfc)\n",
    "print(\"roc-auc-score of desicion tree of label 9:\",roc_auc)\n",
    "print(\"roc-auc-score of logistic regression label 9:\",roc_auclg)\n",
    "print(\"roc-auc-score of multinomial naive bayes label 9:\",roc_aucmnb)\n",
    "print(\"roc-auc-score of random forest classifier label 9:\",roc_aucrfc)\n",
    "# roc_auc_seven = metrics.roc_auc_score(binary_class_testing_seven,pred)\n",
    "# roc_auclg_seven = metrics.roc_auc_score(binary_class_testing_seven,pred_lg)\n",
    "# roc_aucmnb_seven = metrics.roc_auc_score(binary_class_testing_seven,pred_mnb)\n",
    "# roc_aucrfc_seven = metrics.roc_auc_score(binary_class_testing_seven,pred_rfc)\n",
    "# print(\"roc-auc-score of desicion tree of label 7\",roc_auc_seven)\n",
    "# print(\"roc-auc-score of logistic regression label 7\",roc_auclg_seven)\n",
    "# print(\"roc-auc-score of multinomial naive bayes label 7\",roc_aucmnb_seven)\n",
    "# print(\"roc-auc-score of random forest classifier label 7\",roc_aucrfc_seven)"
   ]
  },
  {
   "cell_type": "markdown",
   "metadata": {},
   "source": [
    "<!-- # Precision = True Positives / (True Positives + False Positives)\n",
    "\n",
    "# Recall = True Positives / (True Positives + False Negatives)\n",
    "\n",
    "# Sensitivity = True Positives / (True Positives + False Negatives)\n",
    "\n",
    "# Recall == sensitivity\n",
    "\n",
    "# Specificity = 1- sensitivity == False Positivies/(False positives/True Negative) -->"
   ]
  },
  {
   "cell_type": "code",
   "execution_count": 92,
   "metadata": {},
   "outputs": [
    {
     "name": "stdout",
     "output_type": "stream",
     "text": [
      "f1score and AUC of Desicion Tree\n",
      "0.0 0.9752924489224357\n",
      "f1score and AUC  of  Logistic Regression\n",
      "0.0 0.9864803412011406\n",
      "f1score and AUC  of  Multinomial Naive Bayes\n",
      "0.0 0.9713490737249236\n",
      "f1score and AUC  of  Random Forest Classifier\n",
      "0.0 0.9965232904053078\n"
     ]
    },
    {
     "name": "stderr",
     "output_type": "stream",
     "text": [
      "/Users/Geethika/opt/anaconda3/lib/python3.7/site-packages/sklearn/metrics/classification.py:1437: UndefinedMetricWarning: F-score is ill-defined and being set to 0.0 in labels with no predicted samples.\n",
      "  'precision', 'predicted', average, warn_for)\n",
      "/Users/Geethika/opt/anaconda3/lib/python3.7/site-packages/sklearn/metrics/classification.py:1439: UndefinedMetricWarning: F-score is ill-defined and being set to 0.0 in labels with no true samples.\n",
      "  'recall', 'true', average, warn_for)\n"
     ]
    },
    {
     "data": {
      "image/png": "[encoded data removed]",
      "text/plain": [
       "<Figure size 432x288 with 1 Axes>"
      ]
     },
     "metadata": {
      "needs_background": "light"
     },
     "output_type": "display_data"
    }
   ],
   "source": [
    "\n",
    "# Print the precision recall curve for each of the models above\n",
    " \n",
    "\n",
    "precision, recall, thresholds = metrics.precision_recall_curve(binary_class_testing,y_dsscore)\n",
    "precision_lg, recall_lg, thresholds_lg = metrics.precision_recall_curve(binary_class_testing,lg.predict_proba(binary_class_testing_data)[:,1])\n",
    "precision_mnb, recall_mnb, thresholds_mnb = metrics.precision_recall_curve(binary_class_testing,mnb.predict_proba(binary_class_testing_data)[:,1])\n",
    "precision_rfc, recall_rfc, thresholds_rfc = metrics.precision_recall_curve(binary_class_testing,rfc.predict_proba(binary_class_testing_data)[:,1])\n",
    "f1_ds,auc_ds = metrics.f1_score(binary_class_testing,pred,average='weighted'), metrics.auc(recall, precision)\n",
    "f1_lg,auc_lg = metrics.f1_score(binary_class_testing,pred_lg,average='weighted'), metrics.auc(recall_lg, precision_lg)\n",
    "f1_mnb,auc_mnb = metrics.f1_score(binary_class_testing,pred_mnb,average='weighted'), metrics.auc(recall_mnb, precision_mnb)\n",
    "f1_rfc,auc_rfc = metrics.f1_score(binary_class_testing,pred_rfc,average='weighted'), metrics.auc(recall_rfc, precision_rfc)\n",
    "print(\"f1score and AUC of Desicion Tree\")\n",
    "print(f1_ds,auc_ds)\n",
    "print(\"f1score and AUC  of  Logistic Regression\")\n",
    "print(f1_lg,auc_lg)\n",
    "print(\"f1score and AUC  of  Multinomial Naive Bayes\")\n",
    "print(f1_mnb,auc_mnb)\n",
    "print(\"f1score and AUC  of  Random Forest Classifier\")\n",
    "print(f1_rfc,auc_rfc)\n",
    "plt.plot(recall,precision, marker='.',label='Desicion tree')\n",
    "plt.plot(recall_lg,precision_lg, marker='.',label='Logistic Regression')\n",
    "plt.plot(recall_mnb,precision_mnb, marker='.',label='Multionimal Naive Bayes')\n",
    "plt.plot(recall_rfc,precision_rfc, marker='.',label='Random Forest Tree')\n",
    "plt.xlabel(\"Recall\")\n",
    "plt.ylabel(\"Precision\")\n",
    "plt.legend(loc = \"lower left\")\n",
    "plt.show()"
   ]
  },
  {
   "cell_type": "code",
   "execution_count": null,
   "metadata": {},
   "outputs": [],
   "source": [
    "# We can see that f1 score of the all models is 0.0 , the model has penalized for predicting the majority class in all cases. \n",
    "# f1 score indicated that the all the model that showed high accuracy and auc value to the ROC Curve is in fact barely predicting properly \n",
    "# when considered using using precision and recall that focus onpredicting label 9."
   ]
  },
  {
   "cell_type": "markdown",
   "metadata": {},
   "source": [
    "## Part 3: Parameter Tuning through Grid Search/Cross Validation and Parallelization\n",
    "\n",
    "So far in this assignment, you manually tweaked the model till it became better.\n",
    "For complex models, this is often cumbersome. A common trick people use is called Grid Search where you exhaustively test various parameter combinations\n",
    "and pick the best set of parameter values. This is a VERY computationally intensive process and hence it will require some parallelization.\n",
    "\n",
    "In this part, you will learn how to tune Randm Forest for MNIST dataset\n",
    "and then parallelize it so as to get results faster.\n",
    "You might want to take a look at the url\n",
    "http://scikit-learn.org/stable/modules/grid_search.html\n",
    "for additional details.\n",
    "\n",
    "One thing you might want to note is that the GridSearchCV uses cross validation for comparing models.\n",
    "\n",
    "So you have to send the ENTIRE MNIST dataset - i.e. mnist.data and mnist.target. \n",
    "\n",
    "The following cell creates two variables all_scaled_data and all_scaled_target that you can pass to GridSearchCV.\n",
    "\n",
    "In order to get the results in reasonable time, set the **cv** parameter of GridSearchCV to 3.\n",
    "Also remember to set the **verbose** parameter to 2 to get some details about what happens internally."
   ]
  },
  {
   "cell_type": "code",
   "execution_count": 96,
   "metadata": {},
   "outputs": [],
   "source": [
    "\n",
    "all_scaled_data = binary_class_data / 255.0\n",
    "all_scaled_target = binary_class_labels"
   ]
  },
  {
   "cell_type": "markdown",
   "metadata": {},
   "source": [
    "### Exercise 6: Tuning parameters for Random Forest using grid search"
   ]
  },
  {
   "cell_type": "code",
   "execution_count": 98,
   "metadata": {},
   "outputs": [
    {
     "name": "stdout",
     "output_type": "stream",
     "text": [
      "Fitting 3 folds for each of 4 candidates, totalling 12 fits\n",
      "[CV] max_features=sqrt, n_estimators=1000 ............................\n"
     ]
    },
    {
     "name": "stderr",
     "output_type": "stream",
     "text": [
      "[Parallel(n_jobs=1)]: Using backend SequentialBackend with 1 concurrent workers.\n"
     ]
    },
    {
     "name": "stdout",
     "output_type": "stream",
     "text": [
      "[CV] ............. max_features=sqrt, n_estimators=1000, total=  39.8s\n",
      "[CV] max_features=sqrt, n_estimators=1000 ............................\n"
     ]
    },
    {
     "name": "stderr",
     "output_type": "stream",
     "text": [
      "[Parallel(n_jobs=1)]: Done   1 out of   1 | elapsed:   39.8s remaining:    0.0s\n"
     ]
    },
    {
     "name": "stdout",
     "output_type": "stream",
     "text": [
      "[CV] ............. max_features=sqrt, n_estimators=1000, total=  43.3s\n",
      "[CV] max_features=sqrt, n_estimators=1000 ............................\n",
      "[CV] ............. max_features=sqrt, n_estimators=1000, total=  43.2s\n",
      "[CV] max_features=sqrt, n_estimators=1500 ............................\n",
      "[CV] ............. max_features=sqrt, n_estimators=1500, total=  58.4s\n",
      "[CV] max_features=sqrt, n_estimators=1500 ............................\n",
      "[CV] ............. max_features=sqrt, n_estimators=1500, total=  57.3s\n",
      "[CV] max_features=sqrt, n_estimators=1500 ............................\n",
      "[CV] ............. max_features=sqrt, n_estimators=1500, total=  57.7s\n",
      "[CV] max_features=log2, n_estimators=1000 ............................\n",
      "[CV] ............. max_features=log2, n_estimators=1000, total=  16.8s\n",
      "[CV] max_features=log2, n_estimators=1000 ............................\n",
      "[CV] ............. max_features=log2, n_estimators=1000, total=  17.9s\n",
      "[CV] max_features=log2, n_estimators=1000 ............................\n",
      "[CV] ............. max_features=log2, n_estimators=1000, total=  19.2s\n",
      "[CV] max_features=log2, n_estimators=1500 ............................\n",
      "[CV] ............. max_features=log2, n_estimators=1500, total=  25.1s\n",
      "[CV] max_features=log2, n_estimators=1500 ............................\n",
      "[CV] ............. max_features=log2, n_estimators=1500, total=  25.0s\n",
      "[CV] max_features=log2, n_estimators=1500 ............................\n",
      "[CV] ............. max_features=log2, n_estimators=1500, total=  24.9s\n"
     ]
    },
    {
     "name": "stderr",
     "output_type": "stream",
     "text": [
      "[Parallel(n_jobs=1)]: Done  12 out of  12 | elapsed:  7.1min finished\n"
     ]
    },
    {
     "data": {
      "text/plain": [
       "{'max_features': 'sqrt', 'n_estimators': 1000}"
      ]
     },
     "execution_count": 98,
     "metadata": {},
     "output_type": "execute_result"
    }
   ],
   "source": [
    "\n",
    "# Tuning Random Forest for MNIST\n",
    "tuned_parameters =[{'max_features': ['sqrt', 'log2'], 'n_estimators': [1000, 1500]}] \n",
    "# Write code here\n",
    "gs_clf = GridSearchCV(estimator = rfc, param_grid = tuned_parameters,cv = 3, verbose = 2)\n",
    "gs_clf = gs_clf.fit(all_scaled_data,all_scaled_target)\n",
    "# print the details of the best model and its accuracy\n",
    "# Write code here\n",
    "print(gs_clf.best_score_)\n",
    "print(gs_clf.best_params_)\n",
    "print('Improvement of {:0.3f}%.'.format( 100 * (gs_clf.best_score_ - (metrics.accuracy_score(pred_rfc,binary_class_testing_labels )))/ metrics.accuracy_score(pred_rfc,binary_class_testing_labels)))"
   ]
  },
  {
   "cell_type": "markdown",
   "metadata": {},
   "source": [
    "### Part - 4"
   ]
  },
  {
   "cell_type": "code",
   "execution_count": 156,
   "metadata": {},
   "outputs": [
    {
     "name": "stdout",
     "output_type": "stream",
     "text": [
      "Training time: 0.42742395401000977 seconds\n",
      "Accuracy score: 0.9493027780780456\n"
     ]
    },
    {
     "name": "stderr",
     "output_type": "stream",
     "text": [
      "/Users/Geethika/opt/anaconda3/lib/python3.7/site-packages/sklearn/svm/base.py:929: ConvergenceWarning: Liblinear failed to converge, increase the number of iterations.\n",
      "  \"the number of iterations.\", ConvergenceWarning)\n"
     ]
    }
   ],
   "source": [
    "from sklearn.multiclass import OneVsRestClassifier\n",
    "from sklearn.svm import LinearSVC\n",
    "import time\n",
    "clf = OneVsRestClassifier(LinearSVC())\n",
    "start = time.time()\n",
    "clf.fit(binary_class_training_data,binary_class_training_labels)\n",
    "stop = time.time()\n",
    "print(\"Training time:\",stop - start,\"seconds\")\n",
    "pred_onevsrest = clf.predict(binary_class_testing_data)\n",
    "print(\"Accuracy score:\",metrics.accuracy_score(pred_onevsrest,binary_class_testing_labels ))"
   ]
  },
  {
   "cell_type": "code",
   "execution_count": null,
   "metadata": {},
   "outputs": [],
   "source": [
    "#performing Principle component analysis on training data to perform the dimensionality reduction \n",
    "#in order to get the important components that contribute best in the classifier.\n",
    "#PCA will speed up fitting the model"
   ]
  },
  {
   "cell_type": "code",
   "execution_count": 139,
   "metadata": {},
   "outputs": [
    {
     "data": {
      "text/plain": [
       "(5000, 784)"
      ]
     },
     "execution_count": 139,
     "metadata": {},
     "output_type": "execute_result"
    }
   ],
   "source": [
    "binary_class_training_data.shape"
   ]
  },
  {
   "cell_type": "markdown",
   "metadata": {},
   "source": [
    "### dont know whether to perform standard scalar or not check with people"
   ]
  },
  {
   "cell_type": "code",
   "execution_count": 159,
   "metadata": {},
   "outputs": [
    {
     "name": "stdout",
     "output_type": "stream",
     "text": [
      "5000\n",
      "9251\n"
     ]
    }
   ],
   "source": [
    "from sklearn.preprocessing import StandardScaler\n",
    "scaler = StandardScaler()\n",
    "# Fit on training set only.\n",
    "scaler.fit(binary_class_training_data)\n",
    "# Apply transform to both the training set and the test set.\n",
    "binary_class_training_data1 = scaler.transform(binary_class_training_data)\n",
    "binary_class_testing_data1 = scaler.transform(binary_class_testing_data)\n",
    "print(len(binary_class_training_data1))\n",
    "print(len(binary_class_testing_data1))"
   ]
  },
  {
   "cell_type": "markdown",
   "metadata": {},
   "source": [
    "### after performing PCA the training time has increase,but pca supposed to be decresed the training time , check with people."
   ]
  },
  {
   "cell_type": "code",
   "execution_count": 161,
   "metadata": {},
   "outputs": [
    {
     "name": "stdout",
     "output_type": "stream",
     "text": [
      "no of components: 100\n",
      "Training time: 0.9002199172973633 seconds\n",
      "classification accuracy on the test set: 0.9545995027564588\n"
     ]
    },
    {
     "name": "stderr",
     "output_type": "stream",
     "text": [
      "/Users/Geethika/opt/anaconda3/lib/python3.7/site-packages/sklearn/svm/base.py:929: ConvergenceWarning: Liblinear failed to converge, increase the number of iterations.\n",
      "  \"the number of iterations.\", ConvergenceWarning)\n"
     ]
    }
   ],
   "source": [
    "import numpy as np\n",
    "from sklearn.decomposition import PCA\n",
    "pca = PCA(100)\n",
    "pca.fit(binary_class_training_data1)\n",
    "print(\"no of components:\",pca.n_components_)\n",
    "#Apply the mapping to both the training data and test data\n",
    "train_pca_data = pca.transform(binary_class_training_data1)\n",
    "test_pca_data = pca.transform(binary_class_testing_data1)\n",
    "#binary_class_testing_labels\n",
    "start = time.time()\n",
    "clf_pca = clf.fit(train_pca_data,binary_class_training_labels)\n",
    "stop = time.time()\n",
    "print(\"Training time:\",stop - start,\"seconds\")\n",
    "pred_clf_pca = clf_pca.predict(test_pca_data)\n",
    "print(\"classification accuracy on the test set:\",metrics.accuracy_score(pred_clf_pca,binary_class_testing_labels))"
   ]
  },
  {
   "cell_type": "markdown",
   "metadata": {},
   "source": [
    "### PCA improved the accuracy "
   ]
  },
  {
   "cell_type": "code",
   "execution_count": 165,
   "metadata": {},
   "outputs": [],
   "source": [
    "percentage_var_explained = pca.explained_variance_ / np.sum(pca.explained_variance_)\n",
    "#print(percentage_var_explained)\n",
    "cum_var_explained = np.cumsum(percentage_var_explained)\n",
    "#print(cum_var_explained)\n",
    "#print(pca.explained_variance_ratio_)\n",
    "cum_var_explained(this was calculated using percentage) == pca.explained_variance_ratio_ (same)(pca.explained_variance_ratio_ python given function)"
   ]
  },
  {
   "cell_type": "code",
   "execution_count": 158,
   "metadata": {},
   "outputs": [
    {
     "data": {
      "image/png": "[encoded data removed]",
      "text/plain": [
       "<Figure size 432x288 with 1 Axes>"
      ]
     },
     "metadata": {
      "needs_background": "light"
     },
     "output_type": "display_data"
    }
   ],
   "source": [
    "plt.figure()\n",
    "#Plotting the Cumulative Summation of the Explained Variance\n",
    "plt.plot(np.cumsum(pca.explained_variance_ratio_))\n",
    "plt.xlim(0,100)\n",
    "plt.xlabel('Number of Components')\n",
    "plt.ylabel('Variance (%)') #for each component\n",
    "plt.title('MNIST Dataset Explained Variance')\n",
    "plt.show()"
   ]
  }
 ],
 "metadata": {
  "kernelspec": {
   "display_name": "Python 3",
   "language": "python",
   "name": "python3"
  },
  "language_info": {
   "codemirror_mode": {
    "name": "ipython",
    "version": 3
   },
   "file_extension": ".py",
   "mimetype": "text/x-python",
   "name": "python",
   "nbconvert_exporter": "python",
   "pygments_lexer": "ipython3",
   "version": "3.7.7"
  }
 },
 "nbformat": 4,
 "nbformat_minor": 1
}
